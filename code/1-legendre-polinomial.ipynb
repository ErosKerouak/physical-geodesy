{
 "cells": [
  {
   "cell_type": "code",
   "execution_count": null,
   "metadata": {},
   "outputs": [],
   "source": [
    "import numpy as np \n",
    "import math"
   ]
  },
  {
   "cell_type": "markdown",
   "metadata": {},
   "source": [
    "**F.1. FUNÇÕES E POLINÔMIOS DE LEGENDRE. CÁLCULO**\n",
    "\n",
    "Seja:  \n",
    "$$\n",
    "t = \\cos \\theta \\tag{99}\n",
    "$$\n",
    "\n",
    "A função de Legendre adota a forma:  \n",
    "$$\n",
    "P_{nm}(t) \\tag{100}\n",
    "$$\n",
    "\n",
    "\n",
    "E pode ser determinada através de:  \n",
    "$$\n",
    "P_{nm}(t) = 2^{-n}(1 - t^2)^{m/2} \\sum_{k=0}^{r} (-1)^k \\frac{(2n - 2k)!}{k! (n - k)! (n - m - 2k)!} t^{n - m - 2k} \\tag{101}\n",
    "$$\n",
    "\n",
    "Sendo $r$  o maior inteiro $\\leq (n - m)$.\n",
    "\n",
    "No caso de $m = 0$, as funções de Legendre $P_{nm}(t)$ se transformam a $P_n(t)$ e são chamadas de “Polinômios de Legendre”. Estes podem ser calculados usando a “Fórmula de Recorrência”:  \n",
    "$$\n",
    "P_n(t) = -\\frac{n - 1}{n} P_{n-2}(t) + \\frac{2n - 1}{n} t P_{n-1}(t) \\tag{102}\n",
    "$$"
   ]
  },
  {
   "cell_type": "code",
   "execution_count": 37,
   "metadata": {},
   "outputs": [
    {
     "name": "stdout",
     "output_type": "stream",
     "text": [
      "Legendre polynomial P_50_3(0.5) = -14780.376890025247\n"
     ]
    }
   ],
   "source": [
    "def associated_legendre(n, m, t):\n",
    "    \"\"\"\n",
    "    Compute the associated Legendre polynomial P_n^m(t).\n",
    "\n",
    "    Parameters:\n",
    "        n (int): Degree of the Legendre polynomial.\n",
    "        m (int): Order of the associated Legendre polynomial (0 <= m <= n).\n",
    "        t (float): The variable (typically cos(theta)).\n",
    "\n",
    "    Returns:\n",
    "        float: The value of the associated Legendre polynomial P_n^m(t).\n",
    "    \"\"\"\n",
    "    \n",
    "    # Validate input types and values\n",
    "    if not isinstance(n, int) or not isinstance(m, int):\n",
    "        raise TypeError(\"n and m must be integers.\")\n",
    "    if m < 0 or m > n:\n",
    "        raise ValueError(\"Order m must satisfy 0 <= m <= n.\")\n",
    "    \n",
    "    # Maximum index for the summation based on the formula\n",
    "    r = (n - m) // 2\n",
    "\n",
    "    # Accumulate the summation terms\n",
    "    total = 0.0\n",
    "    for k in range(r + 1):\n",
    "        numerator = (-1)**k * (t**(n - m - 2*k)) * math.factorial(2*n - 2*k)\n",
    "        denominator = math.factorial(k) * math.factorial(n - k) * math.factorial(n - m - 2*k)\n",
    "        total += numerator / denominator\n",
    "\n",
    "    # Multiplier factor outside the summation\n",
    "    multiplier = (2**-n) * ((1 - t**2)**(m / 2))\n",
    "\n",
    "    return multiplier * total\n",
    "\n",
    "\n",
    "\n",
    "\n",
    "# Exemplo de uso:\n",
    "t_value = 0.5\n",
    "n_value = 50\n",
    "m_value = 3\n",
    "result = associated_legendre(n_value, m_value, t_value)\n",
    "print(f\"Legendre polynomial P_{n_value}_{m_value}({t_value}) = {result}\")"
   ]
  },
  {
   "cell_type": "code",
   "execution_count": 10,
   "metadata": {},
   "outputs": [
    {
     "name": "stdout",
     "output_type": "stream",
     "text": [
      "Legendre polynomial P_500(-0.4) = 0.007034633590097317\n"
     ]
    }
   ],
   "source": [
    "def legendre_polynomial(n, t):\n",
    "    \"\"\"\n",
    "    Compute the Legendre polynomial P_n(t) using the recurrence relation:\n",
    "    P_n(t) = -((n - 1)/n) * P_{n-2}(t) + ((2n - 1)/n) * t * P_{n-1}(t)\n",
    "    \n",
    "    Parameters:\n",
    "        n (int): Degree of the Legendre polynomial.\n",
    "        t (float or np.array): Value at which the polynomial is evaluated.\n",
    "    \n",
    "    Returns:\n",
    "        float or np.array: The evaluated Legendre polynomial P_n(t).\n",
    "    \"\"\"\n",
    "    # Base cases: P_0(t) = 1 and P_1(t) = t\n",
    "    if n == 0:\n",
    "        return 1\n",
    "    if n == 1:\n",
    "        return t\n",
    "\n",
    "    # Initialize P_0 and P_1\n",
    "    P_prev_prev = 1   # P_0\n",
    "    P_prev = t        # P_1\n",
    "\n",
    "    # Compute P_k for k = 2, 3, ..., n using the recurrence relation\n",
    "    for k in range(2, n + 1):\n",
    "        P_current = -((k - 1) / k) * P_prev_prev + ((2 * k - 1) / k) * t * P_prev\n",
    "        P_prev_prev, P_prev = P_prev, P_current\n",
    "\n",
    "    return P_prev\n",
    "\n",
    "# Exemplo de uso:\n",
    "t_value = -0.4\n",
    "n_value = 500\n",
    "result = legendre_polynomial(n_value, t_value)\n",
    "print(f\"Legendre polynomial P_{n_value}({t_value}) = {result}\")\n"
   ]
  }
 ],
 "metadata": {
  "kernelspec": {
   "display_name": "physical-geodesy",
   "language": "python",
   "name": "python3"
  },
  "language_info": {
   "codemirror_mode": {
    "name": "ipython",
    "version": 3
   },
   "file_extension": ".py",
   "mimetype": "text/x-python",
   "name": "python",
   "nbconvert_exporter": "python",
   "pygments_lexer": "ipython3",
   "version": "3.10.16"
  }
 },
 "nbformat": 4,
 "nbformat_minor": 2
}
