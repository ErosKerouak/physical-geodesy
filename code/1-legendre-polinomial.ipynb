{
 "cells": [
  {
   "cell_type": "code",
   "execution_count": 1,
   "metadata": {},
   "outputs": [],
   "source": [
    "import numpy as np \n",
    "import math"
   ]
  },
  {
   "cell_type": "code",
   "execution_count": 2,
   "metadata": {},
   "outputs": [],
   "source": [
    "import harmonica as hm"
   ]
  },
  {
   "cell_type": "markdown",
   "metadata": {},
   "source": [
    "**F.1. FUNÇÕES E POLINÔMIOS DE LEGENDRE. CÁLCULO**\n",
    "\n",
    "Seja:  \n",
    "$$\n",
    "t = \\cos \\theta \\tag{99}\n",
    "$$\n",
    "\n",
    "A função de Legendre adota a forma:  \n",
    "$$\n",
    "P_{nm}(t) \\tag{100}\n",
    "$$\n",
    "\n",
    "\n",
    "E pode ser determinada através de:  \n",
    "$$\n",
    "P_{nm}(t) = 2^{-n}(1 - t^2)^{m/2} \\sum_{k=0}^{r} (-1)^k \\frac{(2n - 2k)!}{k! (n - k)! (n - m - 2k)!} t^{n - m - 2k} \\tag{101}\n",
    "$$\n",
    "\n",
    "Sendo $r$  o maior inteiro $\\leq (n - m)$.\n",
    "\n",
    "No caso de $m = 0$, as funções de Legendre $P_{nm}(t)$ se transformam a $P_n(t)$ e são chamadas de “Polinômios de Legendre”. Estes podem ser calculados usando a “Fórmula de Recorrência”:  \n",
    "$$\n",
    "P_n(t) = -\\frac{n - 1}{n} P_{n-2}(t) + \\frac{2n - 1}{n} t P_{n-1}(t) \\tag{102}\n",
    "$$"
   ]
  },
  {
   "cell_type": "code",
   "execution_count": 3,
   "metadata": {},
   "outputs": [
    {
     "name": "stdout",
     "output_type": "stream",
     "text": [
      "Polinômio de Legendre P_50_0(0.5) = -0.031059094826858313\n"
     ]
    }
   ],
   "source": [
    "def associated_legendre_polynomial(n, m, t):\n",
    "    \"\"\"\n",
    "    Calcula o polinômio de Legendre associado P_nm(t).\n",
    "\n",
    "    Parâmetros:\n",
    "        n (int): Grau do polinômio de Legendre.\n",
    "        m (int): Ordem do polinômio de Legendre (0 <= m <= n).\n",
    "        t (float): cos(theta).\n",
    "\n",
    "    Retorno:\n",
    "        float: Valor do polinômio de Legendre associado P_nm(t).\n",
    "    \"\"\"\n",
    "    \n",
    "    # Verifica se os tipos e valores de entrada são válidos\n",
    "    if not isinstance(n, int) or not isinstance(m, int):\n",
    "        raise TypeError(\"n e m devem ser inteiros.\")\n",
    "    if m < 0 or m > n:\n",
    "        raise ValueError(\"A ordem m deve satisfazer 0 <= m <= n.\")\n",
    "    \n",
    "    # Índice máximo da soma com base na fórmula\n",
    "    r = (n - m) // 2\n",
    "\n",
    "    # Acumula os termos da soma\n",
    "    total = 0.0\n",
    "    for k in range(r + 1):\n",
    "        numerator = (-1)**k * (t**(n - m - 2*k)) * math.factorial(2*n - 2*k)\n",
    "        denominator = math.factorial(k) * math.factorial(n - k) * math.factorial(n - m - 2*k)\n",
    "        total += numerator / denominator\n",
    "\n",
    "    # Fator multiplicador fora da soma\n",
    "    multiplier = (2**-n) * ((1 - t**2)**(m / 2))\n",
    "\n",
    "    return multiplier * total\n",
    "\n",
    "\n",
    "# Exemplo de uso:\n",
    "t_value = 0.5\n",
    "n_value = 50\n",
    "m_value = 0\n",
    "result = associated_legendre_polynomial(n_value, m_value, t_value)\n",
    "print(f\"Polinômio de Legendre P_{n_value}_{m_value}({t_value}) = {result}\")"
   ]
  },
  {
   "cell_type": "code",
   "execution_count": null,
   "metadata": {},
   "outputs": [],
   "source": [
    "hm.associated_legendre(t_value, n_value, p)"
   ]
  },
  {
   "cell_type": "code",
   "execution_count": 42,
   "metadata": {},
   "outputs": [
    {
     "name": "stdout",
     "output_type": "stream",
     "text": [
      "Polinômio de Legendre P_50(0.5) = -0.031059099239609853\n"
     ]
    }
   ],
   "source": [
    "def legendre_polynomial(n, t):\n",
    "    \"\"\"\n",
    "    Calcula o polinômio de Legendre P_n(t) usando a relação de recorrência:\n",
    "    P_n(t) = -((n - 1)/n) * P_{n-2}(t) + ((2n - 1)/n) * t * P_{n-1}(t)\n",
    "    \n",
    "    Parâmetros:\n",
    "        n (int): Grau do polinômio de Legendre.\n",
    "        t (float ou np.array): Valor em que o polinômio será avaliado.\n",
    "    \n",
    "    Retorno:\n",
    "        float ou np.array: Valor do polinômio de Legendre P_n(t) avaliado em t.\n",
    "    \"\"\"\n",
    "    # Casos base: P_0(t) = 1 e P_1(t) = t\n",
    "    if n == 0:\n",
    "        return 1\n",
    "    if n == 1:\n",
    "        return t\n",
    "\n",
    "    # Inicializa P_0 e P_1\n",
    "    P_prev_prev = 1   # P_0\n",
    "    P_prev = t        # P_1\n",
    "\n",
    "    # Calcula P_k para k = 2, 3, ..., n usando a relação de recorrência\n",
    "    for k in range(2, n + 1):\n",
    "        P_current = -((k - 1) / k) * P_prev_prev + ((2 * k - 1) / k) * t * P_prev\n",
    "        P_prev_prev, P_prev = P_prev, P_current\n",
    "\n",
    "    return P_prev\n",
    "\n",
    "# Exemplo de uso:\n",
    "t_value = 0.5\n",
    "n_value = 50\n",
    "result = legendre_polynomial(n_value, t_value)\n",
    "print(f\"Polinômio de Legendre P_{n_value}({t_value}) = {result}\")\n"
   ]
  }
 ],
 "metadata": {
  "kernelspec": {
   "display_name": "physical-geodesy",
   "language": "python",
   "name": "python3"
  },
  "language_info": {
   "codemirror_mode": {
    "name": "ipython",
    "version": 3
   },
   "file_extension": ".py",
   "mimetype": "text/x-python",
   "name": "python",
   "nbconvert_exporter": "python",
   "pygments_lexer": "ipython3",
   "version": "3.10.16"
  }
 },
 "nbformat": 4,
 "nbformat_minor": 2
}
