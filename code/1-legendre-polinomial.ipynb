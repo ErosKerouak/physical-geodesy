{
 "cells": [
  {
   "cell_type": "code",
   "execution_count": 2,
   "metadata": {},
   "outputs": [],
   "source": [
    "import numpy as np "
   ]
  },
  {
   "cell_type": "markdown",
   "metadata": {},
   "source": [
    "**F.1. FUNÇÕES E POLINÔMIOS DE LEGENDRE. CÁLCULO**\n",
    "\n",
    "Seja:  \n",
    "$$\n",
    "t = \\cos \\theta \\tag{99}\n",
    "$$\n",
    "\n",
    "A função de Legendre adota a forma:  \n",
    "$$\n",
    "P_{nm}(t) \\tag{100}\n",
    "$$\n",
    "\n",
    "\n",
    "E pode ser determinada através de:  \n",
    "$$\n",
    "P_{nm}(t) = 2^{-n}(1 - t^2)^{m/2} \\sum_{k=0}^{r} (-1)^k \\frac{(2n - 2k)!}{k! (n - k)! (n - m - 2k)!} t^{n - m - 2k} \\tag{101}\n",
    "$$\n",
    "\n",
    "Sendo $r$  o maior inteiro $\\leq (n - m)$.\n",
    "\n",
    "No caso de $m = 0$, as funções de Legendre $P_{nm}(t)$ se transformam a $P_n(t)$ e são chamadas de “Polinômios de Legendre”. Estes podem ser calculados usando a “Fórmula de Recorrência”:  \n",
    "$$\n",
    "P_n(t) = -\\frac{n - 1}{n} P_{n-2}(t) + \\frac{2n - 1}{n} t P_{n-1}(t) \\tag{102}\n",
    "$$"
   ]
  },
  {
   "cell_type": "code",
   "execution_count": 10,
   "metadata": {},
   "outputs": [
    {
     "name": "stdout",
     "output_type": "stream",
     "text": [
      "Legendre polynomial P_500(-0.4) = 0.007034633590097317\n"
     ]
    }
   ],
   "source": [
    "def legendre_polynomial(n, t):\n",
    "    \"\"\"\n",
    "    Compute the Legendre polynomial P_n(t) using the recurrence relation:\n",
    "    P_n(t) = -((n - 1)/n) * P_{n-2}(t) + ((2n - 1)/n) * t * P_{n-1}(t)\n",
    "    \n",
    "    Parameters:\n",
    "        n (int): Degree of the Legendre polynomial.\n",
    "        t (float or np.array): Value at which the polynomial is evaluated.\n",
    "    \n",
    "    Returns:\n",
    "        float or np.array: The evaluated Legendre polynomial P_n(t).\n",
    "    \"\"\"\n",
    "    # Base cases: P_0(t) = 1 and P_1(t) = t\n",
    "    if n == 0:\n",
    "        return 1\n",
    "    if n == 1:\n",
    "        return t\n",
    "\n",
    "    # Initialize P_0 and P_1\n",
    "    P_prev_prev = 1   # P_0\n",
    "    P_prev = t        # P_1\n",
    "\n",
    "    # Compute P_k for k = 2, 3, ..., n using the recurrence relation\n",
    "    for k in range(2, n + 1):\n",
    "        P_current = -((k - 1) / k) * P_prev_prev + ((2 * k - 1) / k) * t * P_prev\n",
    "        P_prev_prev, P_prev = P_prev, P_current\n",
    "\n",
    "    return P_prev\n",
    "\n",
    "# Exemplo de uso:\n",
    "t_value = -0.4\n",
    "n_value = 500\n",
    "result = legendre_polynomial(n_value, t_value)\n",
    "print(f\"Legendre polynomial P_{n_value}({t_value}) = {result}\")\n"
   ]
  }
 ],
 "metadata": {
  "kernelspec": {
   "display_name": "physical-geodesy",
   "language": "python",
   "name": "python3"
  },
  "language_info": {
   "codemirror_mode": {
    "name": "ipython",
    "version": 3
   },
   "file_extension": ".py",
   "mimetype": "text/x-python",
   "name": "python",
   "nbconvert_exporter": "python",
   "pygments_lexer": "ipython3",
   "version": "3.10.16"
  }
 },
 "nbformat": 4,
 "nbformat_minor": 2
}
