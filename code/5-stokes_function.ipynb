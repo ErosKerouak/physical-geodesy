{
 "cells": [
  {
   "cell_type": "code",
   "execution_count": 1,
   "id": "1b1d2e35",
   "metadata": {},
   "outputs": [],
   "source": [
    "import numpy as np\n",
    "import xarray as xr"
   ]
  },
  {
   "cell_type": "code",
   "execution_count": 3,
   "id": "eb891fc0",
   "metadata": {},
   "outputs": [
    {
     "name": "stderr",
     "output_type": "stream",
     "text": [
      "Matplotlib is building the font cache; this may take a moment.\n"
     ]
    },
    {
     "name": "stdout",
     "output_type": "stream",
     "text": [
      "/home/eroskerouak/physical-geodesy/code/functions.py\n"
     ]
    }
   ],
   "source": [
    "import importlib\n",
    "import functions as md\n",
    "\n",
    "importlib.reload(md)  # Reload the module\n",
    "\n",
    "print(md.__file__)"
   ]
  },
  {
   "cell_type": "code",
   "execution_count": null,
   "id": "cc3df521",
   "metadata": {},
   "outputs": [],
   "source": [
    "latP = - (25 + 26/60 + 54.12695/3600) # em graus decimais\n",
    "longP = - (49 + 13/60 + 51.43717/3600) # m graus decimais"
   ]
  }
 ],
 "metadata": {
  "kernelspec": {
   "display_name": "physical-geodesy",
   "language": "python",
   "name": "python3"
  },
  "language_info": {
   "codemirror_mode": {
    "name": "ipython",
    "version": 3
   },
   "file_extension": ".py",
   "mimetype": "text/x-python",
   "name": "python",
   "nbconvert_exporter": "python",
   "pygments_lexer": "ipython3",
   "version": "3.10.17"
  }
 },
 "nbformat": 4,
 "nbformat_minor": 5
}
