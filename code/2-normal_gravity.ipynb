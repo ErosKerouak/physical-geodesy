{
 "cells": [
  {
   "cell_type": "code",
   "execution_count": 1,
   "metadata": {},
   "outputs": [],
   "source": [
    "import boule as bl"
   ]
  },
  {
   "cell_type": "code",
   "execution_count": 3,
   "metadata": {},
   "outputs": [],
   "source": [
    "def dms_to_decimal(degrees, minutes, seconds, direction=None):\n",
    "    \"\"\"\n",
    "    Convert DMS (Degrees, Minutes, Seconds) to decimal degrees.\n",
    "\n",
    "    Parameters:\n",
    "        degrees (int or float): Degree component\n",
    "        minutes (int or float): Minute component\n",
    "        seconds (int or float): Second component\n",
    "        direction (str, optional): 'N', 'S', 'E' or 'W' to handle hemisphere\n",
    "\n",
    "    Returns:\n",
    "        float: Decimal degrees\n",
    "    \"\"\"\n",
    "    decimal = abs(degrees) + minutes / 60 + seconds / 3600\n",
    "    if direction:\n",
    "        if direction.upper() in ['S', 'W']:\n",
    "            decimal *= -1\n",
    "    elif degrees < 0:\n",
    "        decimal *= -1\n",
    "    return decimal\n"
   ]
  },
  {
   "cell_type": "code",
   "execution_count": 4,
   "metadata": {},
   "outputs": [
    {
     "name": "stdout",
     "output_type": "stream",
     "text": [
      "height: 2850m\n",
      "latitude: 0.001388888888888889°\n"
     ]
    }
   ],
   "source": [
    "h=2850\n",
    "lat=5/3600\n",
    "\n",
    "print(f\"height: {h}m\")\n",
    "print(f\"latitude: {lat}°\")"
   ]
  },
  {
   "cell_type": "code",
   "execution_count": 7,
   "metadata": {},
   "outputs": [
    {
     "name": "stdout",
     "output_type": "stream",
     "text": [
      "semimajor_axis = 6378137\n",
      "semiminor_axis = 6356752.314140356\n",
      "linear_eccentricity = 521854.009700248\n"
     ]
    }
   ],
   "source": [
    "ellipsoid = bl.GRS80\n",
    "print(f\"semimajor_axis = {ellipsoid.semimajor_axis}\")\n",
    "print(f\"semiminor_axis = {ellipsoid.semiminor_axis}\")\n",
    "print(f\"linear_eccentricity = {ellipsoid.linear_eccentricity}\")"
   ]
  },
  {
   "cell_type": "code",
   "execution_count": 6,
   "metadata": {},
   "outputs": [
    {
     "name": "stdout",
     "output_type": "stream",
     "text": [
      "beta_p: 0.0013842385655864757\n",
      "b_p: 6359611.897492543\n"
     ]
    }
   ],
   "source": [
    "longitude, beta_p, b_p = ellipsoid.geodetic_to_ellipsoidal_harmonic(longitude=None, latitude=lat, height=h)\n",
    "\n",
    "print(f\"beta_p: {beta_p}\")\n",
    "print(f\"b_p: {b_p}\")"
   ]
  },
  {
   "cell_type": "code",
   "execution_count": 11,
   "metadata": {},
   "outputs": [
    {
     "name": "stdout",
     "output_type": "stream",
     "text": [
      "a = 6378137\n",
      "b = 6356752.314140356\n",
      "Gm = 398600500000000.0\n",
      "omega = 7.292115e-05\n"
     ]
    }
   ],
   "source": [
    "\n",
    "ellipsoid = bl.GRS80\n",
    "print(\"a =\", ellipsoid.semimajor_axis)\n",
    "print(\"b =\", ellipsoid.semiminor_axis)\n",
    "print(\"Gm =\", ellipsoid.geocentric_grav_const)\n",
    "print(\"omega =\", ellipsoid.angular_velocity)\n"
   ]
  },
  {
   "cell_type": "code",
   "execution_count": 10,
   "metadata": {},
   "outputs": [
    {
     "name": "stdout",
     "output_type": "stream",
     "text": [
      "semimajor_axis: 6378137 m\n",
      "semiminor_axis: 6356752.314140356 m\n",
      "geocentric_grav_const: 398600500000000.0\n",
      "angular_velocity: 7.292115e-05\n",
      "flattening: 0.003352810681182319\n",
      "linear_eccentricity: 521854.009700248 m\n"
     ]
    }
   ],
   "source": [
    "ellipsoid = bl.GRS80\n",
    "\n",
    "semimajor_axis = ellipsoid.semimajor_axis\n",
    "flattening = ellipsoid.flattening\n",
    "geocentric_grav_const = ellipsoid.geocentric_grav_const\n",
    "angular_velocity = ellipsoid.angular_velocity \n",
    "\n",
    "print(f\"semimajor_axis: {semimajor_axis} m\")\n",
    "print(f\"semiminor_axis: {ellipsoid.semiminor_axis} m\")\n",
    "print(f\"geocentric_grav_const: {geocentric_grav_const}\")\n",
    "print(f\"angular_velocity: {angular_velocity}\")\n",
    "print(f\"flattening: {flattening}\")\n",
    "print(f\"linear_eccentricity: {ellipsoid.linear_eccentricity} m\")\n",
    "\n"
   ]
  },
  {
   "cell_type": "code",
   "execution_count": 7,
   "metadata": {},
   "outputs": [
    {
     "data": {
      "text/plain": [
       "'Hofmann-Wellenhof, B., & Moritz, H. (2006). Physical Geodesy (2nd, corr. ed. 2006 edition ed.). Wien; New York: Springer.'"
      ]
     },
     "execution_count": 7,
     "metadata": {},
     "output_type": "execute_result"
    }
   ],
   "source": [
    "reference = ellipsoid.reference\n",
    "\n",
    "reference"
   ]
  },
  {
   "cell_type": "code",
   "execution_count": 8,
   "metadata": {},
   "outputs": [
    {
     "name": "stdout",
     "output_type": "stream",
     "text": [
      "GRS80 - Geodetic Reference System (1980)\n",
      "Oblate ellipsoid:\n",
      "  • Semimajor axis: 6378137 m\n",
      "  • Flattening: 0.003352810681182319\n",
      "  • GM: 398600500000000.0 m³/s²\n",
      "  • Angular velocity: 7.292115e-05 rad/s\n",
      "Source:\n",
      "  Hofmann-Wellenhof, B., & Moritz, H. (2006). Physical Geodesy (2nd,\n",
      "    corr. ed. 2006 edition ed.). Wien; New York: Springer.\n"
     ]
    }
   ],
   "source": [
    "print(ellipsoid) "
   ]
  },
  {
   "cell_type": "code",
   "execution_count": null,
   "metadata": {},
   "outputs": [],
   "source": [
    "Semieixo maior (\\(a\\)) & \\(6\\,378\\,137.0\\;\\text{m}\\) \\\\\n",
    "Semieixo menor (\\(b\\)) & \\(6\\,356\\,752.3141\\;\\text{m}\\) \\\\\n",
    "Gravidade geocêntrica (\\(Gm\\)) & \\(3.986005 \\times 10^{14}\\;\\text{m}^3/\\text{s}^2\\) \\\\\n",
    "Velocidade angular da Terra (\\(\\omega\\)) & \\(7.292115 \\times 10^{-5}\\;\\text{rad/s}\\) \\\\\n",
    "Raio de curvatura polar (\\(c = a^2/b\\)) & \\(6\\,399\\,593.626\\;\\text{m}\\) \\\\\n",
    "Excentricidade linear (\\(E = \\sqrt{a^2 - b^2}\\)) & \\(521\\,854.0097\\;\\text{m}\\) \\\\"
   ]
  },
  {
   "cell_type": "code",
   "execution_count": 9,
   "metadata": {},
   "outputs": [
    {
     "name": "stdout",
     "output_type": "stream",
     "text": [
      "6356752.3141 m\n",
      "521854.00970025 m\n",
      "8.1819191042816e-02\n",
      "8.2094438151917e-02\n",
      "6370994.4018 m\n",
      "6371008.7714 m\n",
      "6371000.7900 m\n",
      "5.9721693661e+24 kg\n",
      "5513 kg/m³\n",
      "1.08321e+12 km³\n",
      "5.1006562172e+14 m²\n",
      "6371007.1809 m\n",
      "9.7803267715 m/s²\n",
      "9.8321863685 m/s²\n",
      "62636860.850 m²/s²\n"
     ]
    }
   ],
   "source": [
    "print(f\"{ellipsoid.semiminor_axis:.4f} m\")\n",
    "\n",
    "print(f\"{ellipsoid.linear_eccentricity:.8f} m\")\n",
    "\n",
    "print(f\"{ellipsoid.first_eccentricity:.13e}\")\n",
    "\n",
    "print(f\"{ellipsoid.second_eccentricity:.13e}\")\n",
    "\n",
    "print(f\"{ellipsoid.mean_radius:.4f} m\")\n",
    "\n",
    "print(f\"{ellipsoid.semiaxes_mean_radius:.4f} m\")\n",
    "\n",
    "print(f\"{ellipsoid.volume_equivalent_radius:.4f} m\")\n",
    "\n",
    "print(f\"{ellipsoid.mass:.10e} kg\")\n",
    "\n",
    "print(f\"{ellipsoid.mean_density:.0f} kg/m³\")\n",
    "\n",
    "print(f\"{ellipsoid.volume * 1e-9:.5e} km³\")\n",
    "\n",
    "print(f\"{ellipsoid.area:.10e} m²\")\n",
    "\n",
    "print(f\"{ellipsoid.area_equivalent_radius:0.4f} m\")\n",
    "\n",
    "print(f\"{ellipsoid.gravity_equator:.10f} m/s²\")\n",
    "\n",
    "print(f\"{ellipsoid.gravity_pole:.10f} m/s²\")\n",
    "\n",
    "print(f\"{ellipsoid.reference_normal_gravity_potential:.3f} m²/s²\")\n"
   ]
  },
  {
   "cell_type": "code",
   "execution_count": 5,
   "metadata": {},
   "outputs": [
    {
     "name": "stdout",
     "output_type": "stream",
     "text": [
      "977153.24 mGal\n"
     ]
    }
   ],
   "source": [
    "gamma = bl.GRS80.normal_gravity(latitude=lat, height=h)\n",
    "print(f\"{gamma:.2f} mGal\")"
   ]
  }
 ],
 "metadata": {
  "kernelspec": {
   "display_name": "physical-geodesy",
   "language": "python",
   "name": "python3"
  },
  "language_info": {
   "codemirror_mode": {
    "name": "ipython",
    "version": 3
   },
   "file_extension": ".py",
   "mimetype": "text/x-python",
   "name": "python",
   "nbconvert_exporter": "python",
   "pygments_lexer": "ipython3",
   "version": "3.10.16"
  }
 },
 "nbformat": 4,
 "nbformat_minor": 2
}
