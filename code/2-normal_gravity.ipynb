{
 "cells": [
  {
   "cell_type": "code",
   "execution_count": 2,
   "metadata": {},
   "outputs": [],
   "source": [
    "import numpy as np\n",
    "import boule as bl"
   ]
  },
  {
   "cell_type": "code",
   "execution_count": 3,
   "metadata": {},
   "outputs": [],
   "source": [
    "ellipsoid = bl.GRS80"
   ]
  },
  {
   "cell_type": "code",
   "execution_count": 21,
   "metadata": {},
   "outputs": [],
   "source": [
    "lat = 5/3600 \n",
    "h = 2850"
   ]
  },
  {
   "cell_type": "code",
   "execution_count": 33,
   "metadata": {},
   "outputs": [
    {
     "name": "stdout",
     "output_type": "stream",
     "text": [
      "E=521854.009700248\n",
      "a=6378137\n",
      "b=6356752.314140356\n",
      "Gm=398600500000000.0\n",
      "omega=7.292115e-05\n"
     ]
    }
   ],
   "source": [
    "b = ellipsoid.semiminor_axis\n",
    "a = ellipsoid.semimajor_axis\n",
    "E = ellipsoid.linear_eccentricity\n",
    "Gm = ellipsoid.geocentric_grav_const\n",
    "omega = ellipsoid.angular_velocity\n",
    "\n",
    "print(f\"E={E}\")\n",
    "print(f\"a={a}\")\n",
    "print(f\"b={b}\")\n",
    "print(f\"Gm={Gm}\")\n",
    "print(f\"omega={omega}\")"
   ]
  },
  {
   "cell_type": "code",
   "execution_count": 25,
   "metadata": {},
   "outputs": [
    {
     "name": "stdout",
     "output_type": "stream",
     "text": [
      "beta=0.0013842322065756726\n"
     ]
    }
   ],
   "source": [
    "beta = np.rad2deg(np.arctan(b*np.sin(np.deg2rad(lat))/a*np.cos(np.deg2rad(lat))))\n",
    "print(f\"beta={beta}\")"
   ]
  },
  {
   "cell_type": "code",
   "execution_count": 26,
   "metadata": {},
   "outputs": [
    {
     "name": "stdout",
     "output_type": "stream",
     "text": [
      "z_p^2 = 23606.62283126165\n",
      "r_p^2 = 40716995070403.35\n"
     ]
    }
   ],
   "source": [
    "# Compute z_p^2\n",
    "zp_squared = (b * np.sin(np.deg2rad(beta)) + h * np.sin(np.deg2rad(lat)))**2\n",
    "\n",
    "# Compute r_p^2\n",
    "rp_squared = (a * np.cos(np.deg2rad(beta)) + h * np.cos(np.deg2rad(lat)))**2\n",
    "\n",
    "print(\"z_p^2 =\", zp_squared)\n",
    "print(\"r_p^2 =\", rp_squared)\n"
   ]
  },
  {
   "cell_type": "code",
   "execution_count": 27,
   "metadata": {},
   "outputs": [
    {
     "name": "stdout",
     "output_type": "stream",
     "text": [
      "D = 149.51255724414438\n",
      "R = 149.51255741751115\n"
     ]
    }
   ],
   "source": [
    "# Cálculo de D e R\n",
    "D = (rp_squared - zp_squared) / E**2\n",
    "R = (rp_squared + zp_squared) / E**2\n",
    "\n",
    "print(\"D =\", D)\n",
    "print(\"R =\", R)"
   ]
  },
  {
   "cell_type": "code",
   "execution_count": 46,
   "metadata": {},
   "outputs": [
    {
     "name": "stdout",
     "output_type": "stream",
     "text": [
      "cos²(beta') = 0.9999999994163176\n",
      "sen²(beta') = 5.836824357174919e-10\n",
      "beta' (rad) = 2.4159520602567474e-05\n",
      "beta' (graus) = 0.0013842385655864757\n"
     ]
    }
   ],
   "source": [
    "\n",
    "# Calcula cos²(beta')\n",
    "cos2_beta_p = 0.5 + 0.5 * R - np.sqrt(0.25 + 0.25 * R**2 - 0.5 * D)\n",
    "\n",
    "sin2_beta_p = 1 - cos2_beta_p\n",
    "\n",
    "\n",
    "\n",
    "# Garante que o valor esteja no intervalo [0, 1] por segurança numérica\n",
    "# cos2_beta_p = np.clip(cos2_beta_p, 0, 1)\n",
    "\n",
    "# Calcula beta' em radianos\n",
    "beta_p = np.arccos(np.sqrt(cos2_beta_p))\n",
    "\n",
    "# Se quiser em graus:\n",
    "beta_p_deg = np.rad2deg(beta_p)\n",
    "\n",
    "print(\"cos²(beta') =\", cos2_beta_p)\n",
    "print(\"sen²(beta') =\", sin2_beta_p)\n",
    "print(\"beta' (rad) =\", beta_p)\n",
    "print(\"beta' (graus) =\", beta_p_deg)\n"
   ]
  },
  {
   "cell_type": "code",
   "execution_count": 29,
   "metadata": {},
   "outputs": [
    {
     "name": "stdout",
     "output_type": "stream",
     "text": [
      "b' = 6359611.897492543\n"
     ]
    }
   ],
   "source": [
    "# Cálculo de b'\n",
    "b_p = np.sqrt(rp_squared + zp_squared - E**2 * cos2_beta_p)\n",
    "\n",
    "print(\"b' =\", b_p)\n"
   ]
  },
  {
   "cell_type": "code",
   "execution_count": 30,
   "metadata": {},
   "outputs": [
    {
     "name": "stdout",
     "output_type": "stream",
     "text": [
      "q_zero: 7.334625840726972e-05\n"
     ]
    }
   ],
   "source": [
    "\n",
    "# Termos individuais\n",
    "term1 = 1 + 3 * (b**2 / E**2)\n",
    "term2 = np.arctan(E / b)\n",
    "term3 = 3 * (b / E)\n",
    "\n",
    "# Resultado final\n",
    "q_zero = 0.5 * (term1 * term2 - term3)\n",
    "\n",
    "print(f\"q_zero: {q_zero}\")"
   ]
  },
  {
   "cell_type": "code",
   "execution_count": 31,
   "metadata": {},
   "outputs": [
    {
     "name": "stdout",
     "output_type": "stream",
     "text": [
      "q_p: 0.002685631457639115\n"
     ]
    }
   ],
   "source": [
    "# Calculate the expression\n",
    "term1 = 1 + (b_p**2 / E**2)\n",
    "term2 = 1 - (b_p / E) * np.arctan(E / b_p)\n",
    "q_p = 3 * term1 * term2 - 1\n",
    "\n",
    "print(\"q_p:\", q_p)\n"
   ]
  },
  {
   "cell_type": "code",
   "execution_count": 50,
   "metadata": {},
   "outputs": [
    {
     "name": "stdout",
     "output_type": "stream",
     "text": [
      "T1 = 9.789536263128698\n",
      "T2 = 0.10151645913370078\n",
      "T3 = -0.16666666637482544\n",
      "T4 = 0.033817198833632274\n"
     ]
    }
   ],
   "source": [
    "# T_1\n",
    "T1 = Gm / (b_p**2 + E**2)\n",
    "\n",
    "# T_2\n",
    "T2 = (omega**2 * a**2 * E * q_p) / ((b_p**2 + E**2) * q_zero)\n",
    "\n",
    "# T_3\n",
    "T3 = (sin2_beta_p / 2) - (1/6)\n",
    "\n",
    "# T_4\n",
    "T4 = omega**2 * b_p * cos2_beta_p\n",
    "\n",
    "# Impressão dos resultados\n",
    "print(\"T1 =\", T1)\n",
    "print(\"T2 =\", T2)\n",
    "print(\"T3 =\", T3)\n",
    "print(\"T4 =\", T4)\n"
   ]
  },
  {
   "cell_type": "code",
   "execution_count": 52,
   "metadata": {},
   "outputs": [
    {
     "name": "stdout",
     "output_type": "stream",
     "text": [
      "W= 0.99665018867654\n"
     ]
    }
   ],
   "source": [
    "# Termos auxiliares\n",
    "numerator = b_p**2 + E**2 * sin2_beta_p**2\n",
    "denominator = b_p**2 + E**2\n",
    "\n",
    "# Expressão final\n",
    "W = np.sqrt(numerator / denominator)\n",
    "\n",
    "print(\"W=\", W)\n"
   ]
  },
  {
   "cell_type": "code",
   "execution_count": 53,
   "metadata": {},
   "outputs": [
    {
     "name": "stdout",
     "output_type": "stream",
     "text": [
      "gamma = 9.771532444499215\n"
     ]
    }
   ],
   "source": [
    "# Cálculo de gamma\n",
    "gamma = (T1 + (T2*T3) - T4) / W\n",
    "\n",
    "print(\"gamma =\", gamma)\n"
   ]
  },
  {
   "cell_type": "code",
   "execution_count": 54,
   "metadata": {},
   "outputs": [
    {
     "name": "stdout",
     "output_type": "stream",
     "text": [
      "977153.24 mGal\n"
     ]
    }
   ],
   "source": [
    "gamma = bl.GRS80.normal_gravity(latitude=lat, height=h)\n",
    "print(f\"{gamma:.2f} mGal\")"
   ]
  }
 ],
 "metadata": {
  "kernelspec": {
   "display_name": "physical-geodesy",
   "language": "python",
   "name": "python3"
  },
  "language_info": {
   "codemirror_mode": {
    "name": "ipython",
    "version": 3
   },
   "file_extension": ".py",
   "mimetype": "text/x-python",
   "name": "python",
   "nbconvert_exporter": "python",
   "pygments_lexer": "ipython3",
   "version": "3.10.16"
  }
 },
 "nbformat": 4,
 "nbformat_minor": 2
}
